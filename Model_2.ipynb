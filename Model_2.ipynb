{
 "cells": [
  {
   "cell_type": "code",
   "execution_count": 17,
   "metadata": {
    "colab": {
     "base_uri": "https://localhost:8080/"
    },
    "id": "W9lBX4rQygjr",
    "outputId": "52a00c9f-5903-4b7d-9d10-29c39e4046e5"
   },
   "outputs": [
    {
     "name": "stdout",
     "output_type": "stream",
     "text": [
      "Drive already mounted at /content/drive; to attempt to forcibly remount, call drive.mount(\"/content/drive\", force_remount=True).\n"
     ]
    }
   ],
   "source": [
    "from google.colab import drive\n",
    "drive.mount('/content/drive')"
   ]
  },
  {
   "cell_type": "code",
   "execution_count": 175,
   "metadata": {
    "colab": {
     "base_uri": "https://localhost:8080/"
    },
    "id": "8CUsHnFLy-bS",
    "outputId": "739ba1e8-6b00-484c-98ab-f6ab06d920df"
   },
   "outputs": [
    {
     "name": "stderr",
     "output_type": "stream",
     "text": [
      "/usr/local/lib/python3.10/dist-packages/ipykernel/ipkernel.py:283: DeprecationWarning: `should_run_async` will not call `transform_cell` automatically in the future. Please pass the result to `transformed_cell` argument and any exception that happen during thetransform in `preprocessing_exc_tuple` in IPython 7.17 and above.\n",
      "  and should_run_async(code)\n"
     ]
    }
   ],
   "source": [
    "import pandas as pd\n",
    "import matplotlib.pyplot as plt\n",
    "\n",
    "df =  pd.read_csv('/content/drive/MyDrive/Kaggle Comp/IBM_Dataset/WA_Fn-UseC_-Telco-Customer-Churn.csv')"
   ]
  },
  {
   "cell_type": "code",
   "execution_count": null,
   "metadata": {
    "id": "PZ12cnOWORqp"
   },
   "outputs": [],
   "source": []
  },
  {
   "cell_type": "code",
   "execution_count": 176,
   "metadata": {
    "colab": {
     "base_uri": "https://localhost:8080/"
    },
    "id": "mVHu1hKlzIdL",
    "outputId": "8c77a0f8-bb94-459e-a03d-ee4965a58cca"
   },
   "outputs": [
    {
     "name": "stderr",
     "output_type": "stream",
     "text": [
      "/usr/local/lib/python3.10/dist-packages/ipykernel/ipkernel.py:283: DeprecationWarning: `should_run_async` will not call `transform_cell` automatically in the future. Please pass the result to `transformed_cell` argument and any exception that happen during thetransform in `preprocessing_exc_tuple` in IPython 7.17 and above.\n",
      "  and should_run_async(code)\n"
     ]
    }
   ],
   "source": [
    "df[\"TotalCharges\"] = pd.to_numeric(df[\"TotalCharges\"], errors='coerce')\n",
    "df[\"TotalCharges\"] = df[\"TotalCharges\"].replace(\" \" , \"0\")\n",
    "df[\"TotalCharges\"] = df[\"TotalCharges\"].astype(float)\n",
    "df[\"Churn\"] = df[\"Churn\"].replace({'Yes' : '1' , \"No\" : '0'}).astype(\"int\")"
   ]
  },
  {
   "cell_type": "code",
   "execution_count": 177,
   "metadata": {
    "colab": {
     "base_uri": "https://localhost:8080/"
    },
    "id": "Rs9ZLr_4BeKm",
    "outputId": "ee6b9fd4-9f0f-4240-f378-84226f4b1001"
   },
   "outputs": [
    {
     "name": "stderr",
     "output_type": "stream",
     "text": [
      "/usr/local/lib/python3.10/dist-packages/ipykernel/ipkernel.py:283: DeprecationWarning: `should_run_async` will not call `transform_cell` automatically in the future. Please pass the result to `transformed_cell` argument and any exception that happen during thetransform in `preprocessing_exc_tuple` in IPython 7.17 and above.\n",
      "  and should_run_async(code)\n"
     ]
    }
   ],
   "source": [
    "columns_to_convert = ['Partner', 'Dependents', 'PhoneService',\n",
    "                      'MultipleLines', 'OnlineSecurity', 'OnlineBackup',\n",
    "                      'DeviceProtection', 'TechSupport', 'StreamingTV', 'StreamingMovies',\n",
    "                      'PaperlessBilling', 'Churn']\n",
    "df[columns_to_convert] = df[columns_to_convert].replace({'No': 0, 'Yes': 1, 'No phone service' : 0, 'No internet service' : 0})"
   ]
  },
  {
   "cell_type": "code",
   "execution_count": 178,
   "metadata": {
    "colab": {
     "base_uri": "https://localhost:8080/"
    },
    "id": "PrwrWCWy6iMG",
    "outputId": "ff998433-60da-4308-c8b6-249977a7f5ea"
   },
   "outputs": [
    {
     "name": "stdout",
     "output_type": "stream",
     "text": [
      "<class 'pandas.core.frame.DataFrame'>\n",
      "RangeIndex: 7043 entries, 0 to 7042\n",
      "Data columns (total 21 columns):\n",
      " #   Column            Non-Null Count  Dtype  \n",
      "---  ------            --------------  -----  \n",
      " 0   customerID        7043 non-null   int64  \n",
      " 1   gender            7043 non-null   int64  \n",
      " 2   SeniorCitizen     7043 non-null   int64  \n",
      " 3   Partner           7043 non-null   int64  \n",
      " 4   Dependents        7043 non-null   int64  \n",
      " 5   tenure            7043 non-null   int64  \n",
      " 6   PhoneService      7043 non-null   int64  \n",
      " 7   MultipleLines     7043 non-null   int64  \n",
      " 8   InternetService   7043 non-null   int64  \n",
      " 9   OnlineSecurity    7043 non-null   int64  \n",
      " 10  OnlineBackup      7043 non-null   int64  \n",
      " 11  DeviceProtection  7043 non-null   int64  \n",
      " 12  TechSupport       7043 non-null   int64  \n",
      " 13  StreamingTV       7043 non-null   int64  \n",
      " 14  StreamingMovies   7043 non-null   int64  \n",
      " 15  Contract          7043 non-null   int64  \n",
      " 16  PaperlessBilling  7043 non-null   int64  \n",
      " 17  PaymentMethod     7043 non-null   int64  \n",
      " 18  MonthlyCharges    7043 non-null   float64\n",
      " 19  TotalCharges      7032 non-null   float64\n",
      " 20  Churn             7043 non-null   int64  \n",
      "dtypes: float64(2), int64(19)\n",
      "memory usage: 1.1 MB\n"
     ]
    },
    {
     "name": "stderr",
     "output_type": "stream",
     "text": [
      "/usr/local/lib/python3.10/dist-packages/ipykernel/ipkernel.py:283: DeprecationWarning: `should_run_async` will not call `transform_cell` automatically in the future. Please pass the result to `transformed_cell` argument and any exception that happen during thetransform in `preprocessing_exc_tuple` in IPython 7.17 and above.\n",
      "  and should_run_async(code)\n"
     ]
    }
   ],
   "source": [
    "from sklearn.preprocessing import LabelEncoder\n",
    "def intConvertor(ds):\n",
    "    if ds.dtype=='object':\n",
    "        ds = LabelEncoder().fit_transform(ds)\n",
    "    return ds\n",
    "\n",
    "df = df.apply(lambda x: intConvertor(x))\n",
    "\n",
    "df.info()"
   ]
  },
  {
   "cell_type": "code",
   "execution_count": 179,
   "metadata": {
    "colab": {
     "base_uri": "https://localhost:8080/"
    },
    "id": "2HVPtQ0uBCjp",
    "outputId": "4ea31ba2-a9cb-4bac-a66a-a17d5a20f516"
   },
   "outputs": [
    {
     "name": "stdout",
     "output_type": "stream",
     "text": [
      "<class 'pandas.core.frame.DataFrame'>\n",
      "RangeIndex: 7043 entries, 0 to 7042\n",
      "Data columns (total 25 columns):\n",
      " #   Column              Non-Null Count  Dtype  \n",
      "---  ------              --------------  -----  \n",
      " 0   customerID          7043 non-null   int64  \n",
      " 1   SeniorCitizen       7043 non-null   int64  \n",
      " 2   tenure              7043 non-null   int64  \n",
      " 3   MonthlyCharges      7043 non-null   float64\n",
      " 4   TotalCharges        7032 non-null   float64\n",
      " 5   Churn               7043 non-null   int64  \n",
      " 6   gender_1            7043 non-null   uint8  \n",
      " 7   Partner_1           7043 non-null   uint8  \n",
      " 8   Dependents_1        7043 non-null   uint8  \n",
      " 9   PhoneService_1      7043 non-null   uint8  \n",
      " 10  MultipleLines_1     7043 non-null   uint8  \n",
      " 11  InternetService_1   7043 non-null   uint8  \n",
      " 12  InternetService_2   7043 non-null   uint8  \n",
      " 13  OnlineSecurity_1    7043 non-null   uint8  \n",
      " 14  OnlineBackup_1      7043 non-null   uint8  \n",
      " 15  DeviceProtection_1  7043 non-null   uint8  \n",
      " 16  TechSupport_1       7043 non-null   uint8  \n",
      " 17  StreamingTV_1       7043 non-null   uint8  \n",
      " 18  StreamingMovies_1   7043 non-null   uint8  \n",
      " 19  Contract_1          7043 non-null   uint8  \n",
      " 20  Contract_2          7043 non-null   uint8  \n",
      " 21  PaperlessBilling_1  7043 non-null   uint8  \n",
      " 22  PaymentMethod_1     7043 non-null   uint8  \n",
      " 23  PaymentMethod_2     7043 non-null   uint8  \n",
      " 24  PaymentMethod_3     7043 non-null   uint8  \n",
      "dtypes: float64(2), int64(4), uint8(19)\n",
      "memory usage: 460.9 KB\n"
     ]
    },
    {
     "name": "stderr",
     "output_type": "stream",
     "text": [
      "/usr/local/lib/python3.10/dist-packages/ipykernel/ipkernel.py:283: DeprecationWarning: `should_run_async` will not call `transform_cell` automatically in the future. Please pass the result to `transformed_cell` argument and any exception that happen during thetransform in `preprocessing_exc_tuple` in IPython 7.17 and above.\n",
      "  and should_run_async(code)\n"
     ]
    }
   ],
   "source": [
    "# df = df.drop(columns=['tenure','MonthlyCharges','TotalCharges','Contract','PaymentMethod','InternetService'])  # Assuming 'Churn' is the target variable\n",
    "\n",
    "listToConvert = ['gender', 'Partner', 'Dependents', 'PhoneService', 'MultipleLines',\n",
    "                       'InternetService', 'OnlineSecurity', 'OnlineBackup', 'DeviceProtection',\n",
    "                       'TechSupport', 'StreamingTV', 'StreamingMovies', 'Contract',\n",
    "                       'PaperlessBilling', 'PaymentMethod']\n",
    "\n",
    "df = pd.get_dummies(df, columns=listToConvert, drop_first=True)\n",
    "\n",
    "df.info()"
   ]
  },
  {
   "cell_type": "code",
   "execution_count": 180,
   "metadata": {
    "colab": {
     "base_uri": "https://localhost:8080/"
    },
    "id": "C3PmI_wTDApq",
    "outputId": "8119ec2d-ad36-434a-9a70-816e81dacfef"
   },
   "outputs": [
    {
     "name": "stdout",
     "output_type": "stream",
     "text": [
      "customerID : [5375 3962 2564 ... 3367 5934 2226]\n",
      "SeniorCitizen : [0 1]\n",
      "tenure : [ 1 34  2 45  8 22 10 28 62 13 16 58 49 25 69 52 71 21 12 30 47 72 17 27\n",
      "  5 46 11 70 63 43 15 60 18 66  9  3 31 50 64 56  7 42 35 48 29 65 38 68\n",
      " 32 55 37 36 41  6  4 33 67 23 57 61 14 20 53 40 59 24 44 19 54 51 26  0\n",
      " 39]\n",
      "MonthlyCharges : [29.85 56.95 53.85 ... 63.1  44.2  78.7 ]\n",
      "TotalCharges : [  29.85 1889.5   108.15 ...  346.45  306.6  6844.5 ]\n",
      "Churn : [0 1]\n",
      "gender_1 : [0 1]\n",
      "Partner_1 : [1 0]\n",
      "Dependents_1 : [0 1]\n",
      "PhoneService_1 : [0 1]\n",
      "MultipleLines_1 : [0 1]\n",
      "InternetService_1 : [0 1]\n",
      "InternetService_2 : [0 1]\n",
      "OnlineSecurity_1 : [0 1]\n",
      "OnlineBackup_1 : [1 0]\n",
      "DeviceProtection_1 : [0 1]\n",
      "TechSupport_1 : [0 1]\n",
      "StreamingTV_1 : [0 1]\n",
      "StreamingMovies_1 : [0 1]\n",
      "Contract_1 : [0 1]\n",
      "Contract_2 : [0 1]\n",
      "PaperlessBilling_1 : [1 0]\n",
      "PaymentMethod_1 : [0 1]\n",
      "PaymentMethod_2 : [1 0]\n",
      "PaymentMethod_3 : [0 1]\n"
     ]
    },
    {
     "name": "stderr",
     "output_type": "stream",
     "text": [
      "/usr/local/lib/python3.10/dist-packages/ipykernel/ipkernel.py:283: DeprecationWarning: `should_run_async` will not call `transform_cell` automatically in the future. Please pass the result to `transformed_cell` argument and any exception that happen during thetransform in `preprocessing_exc_tuple` in IPython 7.17 and above.\n",
      "  and should_run_async(code)\n"
     ]
    }
   ],
   "source": [
    "for col in df.columns:\n",
    "    print(f\"{col} : {df[col].unique()}\")"
   ]
  },
  {
   "cell_type": "code",
   "execution_count": 181,
   "metadata": {
    "colab": {
     "base_uri": "https://localhost:8080/"
    },
    "id": "CKrJSVSDDEpV",
    "outputId": "8541cd8c-bfc3-4750-943b-ece6ac20e8a9"
   },
   "outputs": [
    {
     "name": "stdout",
     "output_type": "stream",
     "text": [
      "SeniorCitizen : [0 1]\n",
      "Churn : [0 1]\n",
      "gender_1 : [0 1]\n",
      "Partner_1 : [1 0]\n",
      "Dependents_1 : [0 1]\n",
      "PhoneService_1 : [0 1]\n",
      "MultipleLines_1 : [0 1]\n",
      "InternetService_1 : [0 1]\n",
      "InternetService_2 : [0 1]\n",
      "OnlineSecurity_1 : [0 1]\n",
      "OnlineBackup_1 : [1 0]\n",
      "DeviceProtection_1 : [0 1]\n",
      "TechSupport_1 : [0 1]\n",
      "StreamingTV_1 : [0 1]\n",
      "StreamingMovies_1 : [0 1]\n",
      "Contract_1 : [0 1]\n",
      "Contract_2 : [0 1]\n",
      "PaperlessBilling_1 : [1 0]\n",
      "PaymentMethod_1 : [0 1]\n",
      "PaymentMethod_2 : [1 0]\n",
      "PaymentMethod_3 : [0 1]\n"
     ]
    },
    {
     "name": "stderr",
     "output_type": "stream",
     "text": [
      "/usr/local/lib/python3.10/dist-packages/ipykernel/ipkernel.py:283: DeprecationWarning: `should_run_async` will not call `transform_cell` automatically in the future. Please pass the result to `transformed_cell` argument and any exception that happen during thetransform in `preprocessing_exc_tuple` in IPython 7.17 and above.\n",
      "  and should_run_async(code)\n"
     ]
    }
   ],
   "source": [
    "df = df.drop(columns=['tenure','MonthlyCharges','TotalCharges','customerID'])  # Assuming 'Churn' is the target variable\n",
    "for col in df.columns:\n",
    "    print(f\"{col} : {df[col].unique()}\")"
   ]
  },
  {
   "cell_type": "markdown",
   "metadata": {},
   "source": [
    "### Recommender System using Apriori"
   ]
  },
  {
   "cell_type": "code",
   "execution_count": 195,
   "metadata": {
    "colab": {
     "base_uri": "https://localhost:8080/"
    },
    "id": "KfvfcSt6KS3X",
    "outputId": "120d8a3d-7e1a-429a-e6a4-014cd4e13f79",
    "scrolled": true
   },
   "outputs": [
    {
     "name": "stdout",
     "output_type": "stream",
     "text": [
      "Association Rules:             antecedents           consequents  antecedent support  \\\n",
      "0            (gender_1)      (PhoneService_1)            0.504756   \n",
      "1      (PhoneService_1)            (gender_1)            0.903166   \n",
      "2           (Partner_1)      (PhoneService_1)            0.483033   \n",
      "3     (MultipleLines_1)      (PhoneService_1)            0.421837   \n",
      "4   (InternetService_1)      (PhoneService_1)            0.439585   \n",
      "5  (PaperlessBilling_1)      (PhoneService_1)            0.592219   \n",
      "6      (PhoneService_1)  (PaperlessBilling_1)            0.903166   \n",
      "\n",
      "   consequent support   support  confidence      lift  leverage  conviction  \\\n",
      "0            0.903166  0.454920    0.901266  0.997896 -0.000959    0.980752   \n",
      "1            0.504756  0.454920    0.503694  0.997896 -0.000959    0.997860   \n",
      "2            0.903166  0.438875    0.908583  1.005998  0.002617    1.059255   \n",
      "3            0.903166  0.421837    1.000000  1.107216  0.040848         inf   \n",
      "4            0.903166  0.439585    1.000000  1.107216  0.042567         inf   \n",
      "5            0.903166  0.537271    0.907216  1.004484  0.002399    1.043652   \n",
      "6            0.592219  0.537271    0.594875  1.004484  0.002399    1.006555   \n",
      "\n",
      "   zhangs_metric  \n",
      "0      -0.004240  \n",
      "1      -0.021312  \n",
      "2       0.011533  \n",
      "3       0.167485  \n",
      "4       0.172789  \n",
      "5       0.010948  \n",
      "6       0.046104  \n",
      "Recommended Plans for the New Customer: []\n"
     ]
    },
    {
     "name": "stderr",
     "output_type": "stream",
     "text": [
      "/usr/local/lib/python3.10/dist-packages/ipykernel/ipkernel.py:283: DeprecationWarning: `should_run_async` will not call `transform_cell` automatically in the future. Please pass the result to `transformed_cell` argument and any exception that happen during thetransform in `preprocessing_exc_tuple` in IPython 7.17 and above.\n",
      "  and should_run_async(code)\n",
      "/usr/local/lib/python3.10/dist-packages/mlxtend/frequent_patterns/fpcommon.py:110: DeprecationWarning: DataFrames with non-bool types result in worse computationalperformance and their support might be discontinued in the future.Please use a DataFrame with bool type\n",
      "  warnings.warn(\n"
     ]
    }
   ],
   "source": [
    "import pandas as pd\n",
    "from mlxtend.frequent_patterns import apriori\n",
    "from mlxtend.frequent_patterns import association_rules\n",
    "\n",
    "fit = apriori(df, min_support=0.4, use_colnames=True) #This will give frequencyItemSets\n",
    "rules = association_rules(fit, metric='confidence', min_threshold=0.5)\n",
    "\n",
    "print('Association Rules:', rules)\n",
    "\n",
    "def recommend_plan(newDf, churn_status=1):\n",
    "    newDf = newDf.reindex(columns=df.columns, fill_value=0)\n",
    "    fr = rules[rules['antecedents'].apply(lambda x: set(x).issubset(newDf.columns)) & (rules['consequents'] == frozenset({f'Churn_{churn_status}'}))]\n",
    "    return fr['antecedents'].tolist()\n",
    "\n",
    "example = {'SeniorCitizen': 1, 'Gender_1': 0, 'Partner_1': 1, 'Dependents_1': 1}\n",
    "newDf = pd.get_dummies(pd.DataFrame([example])) #new_df will be test_Set\n",
    "\n",
    "recommended_plans = recommend_plan(new_Df)\n",
    "print('Recommended Plans for the New Customer:' , recommended_plans)"
   ]
  },
  {
   "cell_type": "markdown",
   "metadata": {},
   "source": [
    "We would construct the apriori using the given techniques. The aim is to find the most common packages that support the most appropriate values for churn"
   ]
  }
 ],
 "metadata": {
  "colab": {
   "provenance": []
  },
  "kernelspec": {
   "display_name": "Python 3",
   "language": "python",
   "name": "python3"
  },
  "language_info": {
   "codemirror_mode": {
    "name": "ipython",
    "version": 3
   },
   "file_extension": ".py",
   "mimetype": "text/x-python",
   "name": "python",
   "nbconvert_exporter": "python",
   "pygments_lexer": "ipython3",
   "version": "3.8.5"
  }
 },
 "nbformat": 4,
 "nbformat_minor": 1
}
